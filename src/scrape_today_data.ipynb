{
 "cells": [
  {
   "cell_type": "code",
   "execution_count": 25,
   "id": "27e4374e",
   "metadata": {},
   "outputs": [],
   "source": [
    "import requests\n",
    "import pandas as pd\n",
    "\n",
    "url = \"https://data.krx.co.kr/comm/bldAttendant/getJsonData.cmd\"\n",
    "\n",
    "# 네트워크 탭의 Form Data 그대로 복사\n",
    "params = {\n",
    "    \"bld\": \"dbms/MDC/STAT/standard/MDCSTAT03901\",  # 페이지마다 다름\n",
    "    \"mktId\": \"STK\",          # 코스피=STK, 코스닥=KSQ, 전체=ALL\n",
    "    \"trdDd\": \"20251010\",     # 조회 날짜\n",
    "    \"share\": \"1\",\n",
    "    \"money\": \"1\",\n",
    "    \"csvxls_isNo\": \"false\"\n",
    "}\n",
    "\n",
    "headers = {\n",
    "    \"User-Agent\": \"Mozilla/5.0\",\n",
    "    \"Referer\": \"https://data.krx.co.kr/contents/MDC/MDI/mdiLoader/index.cmd?menuId=MDC0201020505\",\n",
    "    \"X-Requested-With\": \"XMLHttpRequest\",\n",
    "    \"Content-Type\": \"application/x-www-form-urlencoded; charset=UTF-8\"\n",
    "}\n",
    "\n",
    "response = requests.post(url, data=params, headers=headers)\n",
    "data = response.json()\n",
    "\n",
    "# DataFrame으로 변환\n",
    "df = pd.DataFrame(data['block1'])"
   ]
  },
  {
   "cell_type": "code",
   "execution_count": 26,
   "id": "b6cc8003",
   "metadata": {},
   "outputs": [
    {
     "data": {
      "text/html": [
       "<div>\n",
       "<style scoped>\n",
       "    .dataframe tbody tr th:only-of-type {\n",
       "        vertical-align: middle;\n",
       "    }\n",
       "\n",
       "    .dataframe tbody tr th {\n",
       "        vertical-align: top;\n",
       "    }\n",
       "\n",
       "    .dataframe thead th {\n",
       "        text-align: right;\n",
       "    }\n",
       "</style>\n",
       "<table border=\"1\" class=\"dataframe\">\n",
       "  <thead>\n",
       "    <tr style=\"text-align: right;\">\n",
       "      <th></th>\n",
       "      <th>ISU_SRT_CD</th>\n",
       "      <th>ISU_ABBRV</th>\n",
       "      <th>MKT_TP_NM</th>\n",
       "      <th>IDX_IND_NM</th>\n",
       "      <th>TDD_CLSPRC</th>\n",
       "      <th>CMPPREVDD_PRC</th>\n",
       "      <th>FLUC_RT</th>\n",
       "      <th>MKTCAP</th>\n",
       "      <th>FLUC_TP_CD</th>\n",
       "    </tr>\n",
       "  </thead>\n",
       "  <tbody>\n",
       "    <tr>\n",
       "      <th>348</th>\n",
       "      <td>030720</td>\n",
       "      <td>동원수산</td>\n",
       "      <td>KOSPI</td>\n",
       "      <td>농업, 임업 및 어업</td>\n",
       "      <td>6,640</td>\n",
       "      <td>-60</td>\n",
       "      <td>-0.90</td>\n",
       "      <td>30,901,265,200</td>\n",
       "      <td>2</td>\n",
       "    </tr>\n",
       "    <tr>\n",
       "      <th>542</th>\n",
       "      <td>004970</td>\n",
       "      <td>신라교역</td>\n",
       "      <td>KOSPI</td>\n",
       "      <td>농업, 임업 및 어업</td>\n",
       "      <td>9,140</td>\n",
       "      <td>-30</td>\n",
       "      <td>-0.33</td>\n",
       "      <td>146,240,000,000</td>\n",
       "      <td>2</td>\n",
       "    </tr>\n",
       "  </tbody>\n",
       "</table>\n",
       "</div>"
      ],
      "text/plain": [
       "    ISU_SRT_CD ISU_ABBRV MKT_TP_NM   IDX_IND_NM TDD_CLSPRC CMPPREVDD_PRC  \\\n",
       "348     030720      동원수산     KOSPI  농업, 임업 및 어업      6,640           -60   \n",
       "542     004970      신라교역     KOSPI  농업, 임업 및 어업      9,140           -30   \n",
       "\n",
       "    FLUC_RT           MKTCAP FLUC_TP_CD  \n",
       "348   -0.90   30,901,265,200          2  \n",
       "542   -0.33  146,240,000,000          2  "
      ]
     },
     "execution_count": 26,
     "metadata": {},
     "output_type": "execute_result"
    }
   ],
   "source": [
    "# 특정 산업 필터링\n",
    "agri_df = df[df['IDX_IND_NM'] == \"농업, 임업 및 어업\"]\n",
    "agri_df.head()\n"
   ]
  },
  {
   "cell_type": "code",
   "execution_count": 27,
   "id": "c2479a01",
   "metadata": {},
   "outputs": [
    {
     "name": "stdout",
     "output_type": "stream",
     "text": [
      "177141265200\n"
     ]
    }
   ],
   "source": [
    "df['MKTCAP'] = df['MKTCAP'].str.replace(',', '').astype(int)\n",
    "\n",
    "# MKTCAP 합계\n",
    "agri_sum = df[df['IDX_IND_NM'] == \"농업, 임업 및 어업\"]['MKTCAP'].sum()\n",
    "print(agri_sum)"
   ]
  }
 ],
 "metadata": {
  "kernelspec": {
   "display_name": "3.10.12",
   "language": "python",
   "name": "python3"
  },
  "language_info": {
   "codemirror_mode": {
    "name": "ipython",
    "version": 3
   },
   "file_extension": ".py",
   "mimetype": "text/x-python",
   "name": "python",
   "nbconvert_exporter": "python",
   "pygments_lexer": "ipython3",
   "version": "3.10.12"
  }
 },
 "nbformat": 4,
 "nbformat_minor": 5
}
